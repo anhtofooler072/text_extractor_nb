{
 "cells": [
  {
   "cell_type": "markdown",
   "id": "022d9e8a",
   "metadata": {},
   "source": [
    "## Code section"
   ]
  },
  {
   "cell_type": "markdown",
   "id": "07885575",
   "metadata": {},
   "source": [
    "### Dependencies"
   ]
  },
  {
   "cell_type": "code",
   "execution_count": null,
   "id": "28797b0c",
   "metadata": {},
   "outputs": [],
   "source": [
    "import pdfplumber"
   ]
  },
  {
   "cell_type": "markdown",
   "id": "19c95903",
   "metadata": {},
   "source": [
    "### Extract one page"
   ]
  },
  {
   "cell_type": "code",
   "execution_count": null,
   "id": "090e4549",
   "metadata": {},
   "outputs": [],
   "source": [
    "def extract_body_from_page(pdf_path, page_number, bbox):\n",
    "    \"\"\"\n",
    "    Extracts text from a specific page and bounding box, excluding headers/footers.\n",
    "\n",
    "    Args:\n",
    "        pdf_path (str): Path to the PDF file.\n",
    "        page_number (int): The 0-indexed page number to extract from.\n",
    "        bbox (tuple): A tuple (x0, top, x1, bottom) defining the bounding box\n",
    "                      of the content area.\n",
    "\n",
    "    Returns:\n",
    "        str: The extracted text from the body of the page.\n",
    "    \"\"\"\n",
    "    with pdfplumber.open(pdf_path) as pdf:\n",
    "        if page_number < 0 or page_number >= len(pdf.pages):\n",
    "            print(f\"Error: Page number {page_number} is out of range.\")\n",
    "            return \"\"\n",
    "\n",
    "        page = pdf.pages[page_number]\n",
    "        \n",
    "        # Crop the page to the desired bounding box\n",
    "        cropped_page = page.crop(bbox)\n",
    "        \n",
    "        # Extract text from the cropped page\n",
    "        text = cropped_page.extract_text()\n",
    "        return text if text else \"\""
   ]
  },
  {
   "cell_type": "markdown",
   "id": "e998c574",
   "metadata": {},
   "source": [
    "#### Example"
   ]
  },
  {
   "cell_type": "code",
   "execution_count": null,
   "id": "4ab4e255",
   "metadata": {},
   "outputs": [],
   "source": [
    "body_bbox = (50, 130, 550, 750)  # (left_x, top_y, right_x, bottom_y) for pdfplumber\n",
    "textone = extract_body_from_page(\"longsonpetrochem.pdf\", 170, body_bbox)\n",
    "print(textone)"
   ]
  },
  {
   "cell_type": "markdown",
   "id": "5c4f9fff",
   "metadata": {},
   "source": [
    "### Extract multiple pages"
   ]
  },
  {
   "cell_type": "code",
   "execution_count": null,
   "id": "d9898e65",
   "metadata": {},
   "outputs": [],
   "source": [
    "def extract_text_from_page_range(pdf_path, start_page, end_page, bbox):\n",
    "    \"\"\"\n",
    "    Extracts text from a range of pages and merges them.\n",
    "    \n",
    "    Args:\n",
    "        pdf_path (str): Path to the PDF file.\n",
    "        start_page (int): Starting page number (0-indexed).\n",
    "        end_page (int): Ending page number (0-indexed, inclusive).\n",
    "        bbox (tuple): Bounding box for text extraction.\n",
    "    \n",
    "    Returns:\n",
    "        str: Merged text from all pages in the range.\n",
    "    \"\"\"\n",
    "    all_text = []\n",
    "    \n",
    "    with pdfplumber.open(pdf_path) as pdf:\n",
    "        total_pages = len(pdf.pages)\n",
    "        print(f\"PDF has {total_pages} pages total\")\n",
    "        \n",
    "        # Validate page range\n",
    "        if start_page < 0:\n",
    "            start_page = 0\n",
    "        if end_page >= total_pages:\n",
    "            end_page = total_pages - 1\n",
    "            \n",
    "        print(f\"Extracting text from pages {start_page + 1} to {end_page + 1} (1-indexed)\")\n",
    "        \n",
    "        for page_num in range(start_page, end_page + 1):\n",
    "            print(f\"Processing page {page_num + 1}...\")\n",
    "            \n",
    "            page = pdf.pages[page_num]\n",
    "            cropped_page = page.crop(bbox)\n",
    "            text = cropped_page.extract_text()\n",
    "            all_text.append(text)\n",
    "            \n",
    "            # if text:\n",
    "            #     # Add page separator and page number for clarity\n",
    "            #     page_header = f\"\\n{'='*50}\\nPAGE {page_num + 1}\\n{'='*50}\\n\"\n",
    "            #     all_text.append(page_header + text)\n",
    "            # else:\n",
    "            #     print(f\"No text found on page {page_num + 1}\")\n",
    "    \n",
    "    return \"\\n\".join(all_text)"
   ]
  },
  {
   "cell_type": "markdown",
   "id": "2a171276",
   "metadata": {},
   "source": [
    "#### Example"
   ]
  },
  {
   "cell_type": "code",
   "execution_count": null,
   "id": "c8e24d22",
   "metadata": {},
   "outputs": [],
   "source": [
    "# Example Usage:\n",
    "pdf_file = \"longsonpetrochem.pdf\"  # Replace with your PDF file\n",
    "start_page = 170  # Convert to 0-indexed (page 170 becomes 169)\n",
    "end_page = 317    # Convert to 0-indexed (page 317 becomes 316)\n",
    "body_bbox = (50, 130, 550, 750)  # (left_x, top_y, right_x, bottom_y) for pdfplumber\n",
    "\n",
    "print(\"Starting text extraction...\")\n",
    "extracted_content = extract_text_from_page_range(pdf_file, start_page, end_page, body_bbox)\n",
    "\n",
    "# Export the extracted content to a text file\n",
    "with open(\"extracted_content.txt\", \"w\", encoding=\"utf-8\") as f:\n",
    "    f.write(extracted_content)\n",
    "\n",
    "print(f\"\\nExtraction complete! Text from pages 170-317 saved to 'extracted_content.txt'\")\n",
    "print(f\"Total characters extracted: {len(extracted_content)}\")"
   ]
  },
  {
   "cell_type": "markdown",
   "id": "f25a580c",
   "metadata": {},
   "source": [
    "## Playground"
   ]
  },
  {
   "cell_type": "code",
   "execution_count": null,
   "id": "61ee229b",
   "metadata": {},
   "outputs": [],
   "source": []
  }
 ],
 "metadata": {
  "kernelspec": {
   "display_name": "Python 3",
   "language": "python",
   "name": "python3"
  },
  "language_info": {
   "codemirror_mode": {
    "name": "ipython",
    "version": 3
   },
   "file_extension": ".py",
   "mimetype": "text/x-python",
   "name": "python",
   "nbconvert_exporter": "python",
   "pygments_lexer": "ipython3",
   "version": "3.12.1"
  }
 },
 "nbformat": 4,
 "nbformat_minor": 5
}
