{
 "cells": [
  {
   "cell_type": "markdown",
   "id": "022d9e8a",
   "metadata": {},
   "source": [
    "## Dependencies"
   ]
  },
  {
   "cell_type": "code",
   "execution_count": null,
   "id": "28797b0c",
   "metadata": {},
   "outputs": [],
   "source": [
    "import pdfplumber"
   ]
  },
  {
   "cell_type": "markdown",
   "id": "19c95903",
   "metadata": {},
   "source": [
    "### Extract one page"
   ]
  },
  {
   "cell_type": "code",
   "execution_count": 2,
   "id": "090e4549",
   "metadata": {},
   "outputs": [
    {
     "name": "stdout",
     "output_type": "stream",
     "text": [
      "STAAD SPACE\n",
      "START JOB INFORMATION\n",
      "JOB NAME LSP Complex Project Package\n",
      "JOB CLIENT Long Son Petrochemicals Co. Ltd.\n",
      "JOB NO SC0353\n",
      "ENGINEER DATE 30-Sep-19\n",
      "END JOB INFORMATION\n",
      "INPUT WIDTH 79\n",
      "***********************************************************************************************\n",
      "***********************************************************************************************\n",
      "***********************************************************************************************\n",
      "UNIT METER KN\n",
      "JOINT COORDINATES\n",
      "1 -3.3 60.6 -6; 2 0 57.95 -6; 3 -3.3 55.3 -6; 4 0 52.65 -6; 5 -3.3 49.95 -6;\n",
      "6 0 47.35 -6; 7 -3.3 55.3 0; 8 0 52.65 0; 9 -3.3 49.95 0; 10 0 47.35 0;\n",
      "11 -3.3 60.6 0; 12 0 57.95 0; 13 17.5 60.6 -2.27; 14 20 60.6 -4.78;\n",
      "15 12.5 60.6 -7.5; 16 17.5 60.6 -7.5; 17 10 60.6 -7.5; 18 9.675 60.6 0;\n",
      "19 7.5 60.6 -1.73; 20 15.39 63.3 -2; 21 17.5 60.6 -2; 22 12.5 60.6 -2;\n",
      "23 20 60.6 -2; 24 -0.6 55.3 0; 26 -1.9 55.3 0; 28 -1.5 55.3 0; 30 17.5 65.7 -2;\n",
      "31 20 65.7 -2; 32 -2.8 55.3 0; 34 12.5 66.75 -2; 35 17.5 66.75 -2;\n",
      "36 0 60.6 -5.22; 37 2.5 60.6 -7.23; 38 0 55.3 -6; 39 0 57.95 -10;\n",
      "40 10 60.6 -2; 42 -0.6 57.95 -6; 43 5.39 63.3 -7.5; 44 7.5 66.75 -7.5;\n",
      "46 -1.5 57.95 -6; 47 2.5 66.75 -7.5; 49 -1.9 57.95 -6; 50 2.5 60.6 -7.5;\n",
      "51 7.5 60.6 -7.5; 53 -2.8 57.95 -6; 54 7.5 60.6 -2; 56 -1.9 52.65 -6;\n",
      "58 -2.8 52.65 -6; 59 10.325 60.6 0; 60 12.5 60.6 -1.73; 61 0 60.6 -6;\n",
      "62 2.5 60.6 -2; 63 17.5 66.75 -2.32; 64 15.5 66.75 -4.78; 65 5.39 63.3 -2;\n",
      "66 7.5 66.75 -2; 67 15.5 66.75 -5.22; 68 17.5 66.75 -7.18; 69 2.5 66.75 -2;\n",
      "71 2.5 63.3 -7.18; 72 17.5 65.7 -7.5; 73 20 65.7 -7.5; 74 2.5 63.3 -2.32;\n",
      "75 5.39 63.3 -4.31; 76 20 60.6 -7.72; 77 17.82 60.6 -10; 78 0 60.6 -2;\n",
      "79 19.675 60.6 0; 80 17.5 60.6 -1.73; 81 15 60.6 0; 82 4.5 66.75 -5.22;\n",
      "83 2.5 66.75 -7.18; 84 20 49.95 -8.17; 85 18.095 49.95 -10; 86 20 49.95 -5.37;\n",
      "87 18.17 49.95 -7.85; 88 18.17 49.95 -2.15; 89 20 49.95 -4.93;\n",
      "90 19.636 49.95 0; 91 15.22 49.95 0; 92 17.63 49.95 -2.15; 93 14.78 49.95 0;\n",
      "94 12.37 49.95 -2.15; 95 10.379 49.95 0; 96 11.83 49.95 -2.15;\n",
      "97 9.621 49.95 0; 98 8.17 49.95 -2.15; 99 5.22 49.95 0; 100 7.63 49.95 -2.15;\n",
      "101 0.364 49.95 0; 102 1.83 49.95 -2.15; 103 4.78 49.95 0;\n",
      "104 2.37 49.95 -2.15; 105 -3.3 60.6 -1.2; 106 0 60.6 -1.2; 107 0 49.95 -5.37;\n",
      "108 1.83 49.95 -7.85; 109 0.364 49.95 -10; 110 0 49.95 -4.93; 111 0 49.95 -6;\n",
      "112 2.5 66.75 -2.32; 113 4.5 66.75 -4.78; 114 0 44.75 -6; 115 0 60.6 -7.5;\n",
      "116 -1.9 60.6 -1.2; 118 -2.8 60.6 -1.2; 120 2.5 60.6 -7.77; 121 0.325 60.6 -10;\n",
      "122 2.5 60.6 -2.27; 123 0 60.6 -4.78; 124 0.325 60.6 0; 125 2.5 60.6 -1.73;\n",
      "126 15.39 63.3 -7.5; 127 17.5 66.75 -7.5; 128 12.5 66.75 -7.5; 129 5 60.6 0;\n"
     ]
    }
   ],
   "source": [
    "body_bbox = (50, 130, 550, 750)  # (left_x, top_y, right_x, bottom_y) for pdfplumber\n",
    "def extract_body_from_page(pdf_path, page_number, bbox):\n",
    "    \"\"\"\n",
    "    Extracts text from a specific page and bounding box, excluding headers/footers.\n",
    "\n",
    "    Args:\n",
    "        pdf_path (str): Path to the PDF file.\n",
    "        page_number (int): The 0-indexed page number to extract from.\n",
    "        bbox (tuple): A tuple (x0, top, x1, bottom) defining the bounding box\n",
    "                      of the content area.\n",
    "\n",
    "    Returns:\n",
    "        str: The extracted text from the body of the page.\n",
    "    \"\"\"\n",
    "    with pdfplumber.open(pdf_path) as pdf:\n",
    "        if page_number < 0 or page_number >= len(pdf.pages):\n",
    "            print(f\"Error: Page number {page_number} is out of range.\")\n",
    "            return \"\"\n",
    "\n",
    "        page = pdf.pages[page_number]\n",
    "        \n",
    "        # Crop the page to the desired bounding box\n",
    "        cropped_page = page.crop(bbox)\n",
    "        \n",
    "        # Extract text from the cropped page\n",
    "        text = cropped_page.extract_text()\n",
    "        return text if text else \"\"\n",
    "    \n",
    "textone = extract_body_from_page(\"longsonpetrochem.pdf\", 170, body_bbox)\n",
    "print(textone)"
   ]
  },
  {
   "cell_type": "code",
   "execution_count": null,
   "id": "d9898e65",
   "metadata": {},
   "outputs": [],
   "source": [
    "def extract_text_from_page_range(pdf_path, start_page, end_page, bbox):\n",
    "    \"\"\"\n",
    "    Extracts text from a range of pages and merges them.\n",
    "    \n",
    "    Args:\n",
    "        pdf_path (str): Path to the PDF file.\n",
    "        start_page (int): Starting page number (0-indexed).\n",
    "        end_page (int): Ending page number (0-indexed, inclusive).\n",
    "        bbox (tuple): Bounding box for text extraction.\n",
    "    \n",
    "    Returns:\n",
    "        str: Merged text from all pages in the range.\n",
    "    \"\"\"\n",
    "    all_text = []\n",
    "    \n",
    "    with pdfplumber.open(pdf_path) as pdf:\n",
    "        total_pages = len(pdf.pages)\n",
    "        print(f\"PDF has {total_pages} pages total\")\n",
    "        \n",
    "        # Validate page range\n",
    "        if start_page < 0:\n",
    "            start_page = 0\n",
    "        if end_page >= total_pages:\n",
    "            end_page = total_pages - 1\n",
    "            \n",
    "        print(f\"Extracting text from pages {start_page + 1} to {end_page + 1} (1-indexed)\")\n",
    "        \n",
    "        for page_num in range(start_page, end_page + 1):\n",
    "            print(f\"Processing page {page_num + 1}...\")\n",
    "            \n",
    "            page = pdf.pages[page_num]\n",
    "            cropped_page = page.crop(bbox)\n",
    "            text = cropped_page.extract_text()\n",
    "            all_text.append(text)\n",
    "            \n",
    "            # if text:\n",
    "            #     # Add page separator and page number for clarity\n",
    "            #     page_header = f\"\\n{'='*50}\\nPAGE {page_num + 1}\\n{'='*50}\\n\"\n",
    "            #     all_text.append(page_header + text)\n",
    "            # else:\n",
    "            #     print(f\"No text found on page {page_num + 1}\")\n",
    "    \n",
    "    return \"\\n\".join(all_text)"
   ]
  },
  {
   "cell_type": "code",
   "execution_count": null,
   "id": "c8e24d22",
   "metadata": {},
   "outputs": [],
   "source": [
    "# Example Usage:\n",
    "pdf_file = \"longsonpetrochem.pdf\"  # Replace with your PDF file\n",
    "start_page = 170  # Convert to 0-indexed (page 170 becomes 169)\n",
    "end_page = 317    # Convert to 0-indexed (page 317 becomes 316)\n",
    "body_bbox = (50, 130, 550, 750)  # (left_x, top_y, right_x, bottom_y) for pdfplumber\n",
    "\n",
    "print(\"Starting text extraction...\")\n",
    "extracted_content = extract_text_from_page_range(pdf_file, start_page, end_page, body_bbox)\n",
    "\n",
    "# Export the extracted content to a text file\n",
    "with open(\"extracted_content.txt\", \"w\", encoding=\"utf-8\") as f:\n",
    "    f.write(extracted_content)\n",
    "\n",
    "print(f\"\\nExtraction complete! Text from pages 170-317 saved to 'extracted_content.txt'\")\n",
    "print(f\"Total characters extracted: {len(extracted_content)}\")"
   ]
  }
 ],
 "metadata": {
  "kernelspec": {
   "display_name": "Python 3",
   "language": "python",
   "name": "python3"
  },
  "language_info": {
   "codemirror_mode": {
    "name": "ipython",
    "version": 3
   },
   "file_extension": ".py",
   "mimetype": "text/x-python",
   "name": "python",
   "nbconvert_exporter": "python",
   "pygments_lexer": "ipython3",
   "version": "3.12.1"
  }
 },
 "nbformat": 4,
 "nbformat_minor": 5
}
